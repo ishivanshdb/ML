{
 "cells": [
  {
   "cell_type": "code",
   "execution_count": 8,
   "metadata": {
    "collapsed": true
   },
   "outputs": [],
   "source": [
    "from sklearn import datasets"
   ]
  },
  {
   "cell_type": "code",
   "execution_count": 10,
   "metadata": {
    "collapsed": false
   },
   "outputs": [
    {
     "data": {
      "text/plain": [
       "dict_keys(['data', 'target', 'target_names', 'images', 'DESCR'])"
      ]
     },
     "execution_count": 10,
     "metadata": {},
     "output_type": "execute_result"
    }
   ],
   "source": [
    "digitdata=datasets.load_digits()\n",
    "digitdata.keys()"
   ]
  },
  {
   "cell_type": "code",
   "execution_count": 13,
   "metadata": {
    "collapsed": false
   },
   "outputs": [],
   "source": [
    "#separating data\n",
    "x_input=digitdata.data\n",
    "y_out=digitdata.target\n"
   ]
  },
  {
   "cell_type": "code",
   "execution_count": 14,
   "metadata": {
    "collapsed": true
   },
   "outputs": [],
   "source": [
    "#split\n",
    "from sklearn.model_selection import train_test_split"
   ]
  },
  {
   "cell_type": "code",
   "execution_count": 21,
   "metadata": {
    "collapsed": false
   },
   "outputs": [],
   "source": [
    "x_train,x_test,y_train,y_test=train_test_split(x_input,y_out,test_size=.30,random_state=101)"
   ]
  },
  {
   "cell_type": "code",
   "execution_count": 22,
   "metadata": {
    "collapsed": false
   },
   "outputs": [
    {
     "data": {
      "text/plain": [
       "(1257, 64)"
      ]
     },
     "execution_count": 22,
     "metadata": {},
     "output_type": "execute_result"
    }
   ],
   "source": [
    "x_train.shape"
   ]
  },
  {
   "cell_type": "code",
   "execution_count": 23,
   "metadata": {
    "collapsed": false
   },
   "outputs": [
    {
     "data": {
      "text/plain": [
       "(1257,)"
      ]
     },
     "execution_count": 23,
     "metadata": {},
     "output_type": "execute_result"
    }
   ],
   "source": [
    "y_train.shape"
   ]
  },
  {
   "cell_type": "code",
   "execution_count": 24,
   "metadata": {
    "collapsed": true
   },
   "outputs": [],
   "source": [
    "from sklearn.svm import SVC"
   ]
  },
  {
   "cell_type": "code",
   "execution_count": 77,
   "metadata": {
    "collapsed": false
   },
   "outputs": [],
   "source": [
    "teacher=SVC(gamma=.001)\n",
    "learner=teacher.fit(x_train,y_train)\n",
    "yp=learner.predict(x_test)\n",
    "ya=y_test"
   ]
  },
  {
   "cell_type": "code",
   "execution_count": 78,
   "metadata": {
    "collapsed": true
   },
   "outputs": [],
   "source": [
    "from sklearn.metrics import accuracy_score"
   ]
  },
  {
   "cell_type": "code",
   "execution_count": 79,
   "metadata": {
    "collapsed": true
   },
   "outputs": [],
   "source": [
    "score=accuracy_score(ya,yp)*100"
   ]
  },
  {
   "cell_type": "code",
   "execution_count": 80,
   "metadata": {
    "collapsed": false
   },
   "outputs": [
    {
     "data": {
      "text/plain": [
       "99.259259259259252"
      ]
     },
     "execution_count": 80,
     "metadata": {},
     "output_type": "execute_result"
    }
   ],
   "source": [
    "score"
   ]
  },
  {
   "cell_type": "code",
   "execution_count": 83,
   "metadata": {
    "collapsed": false
   },
   "outputs": [
    {
     "name": "stderr",
     "output_type": "stream",
     "text": [
      "C:\\Users\\dell\\Anaconda3\\lib\\site-packages\\sklearn\\utils\\validation.py:395: DeprecationWarning: Passing 1d arrays as data is deprecated in 0.17 and will raise ValueError in 0.19. Reshape your data either using X.reshape(-1, 1) if your data has a single feature or X.reshape(1, -1) if it contains a single sample.\n",
      "  DeprecationWarning)\n"
     ]
    },
    {
     "data": {
      "text/plain": [
       "array([4])"
      ]
     },
     "execution_count": 83,
     "metadata": {},
     "output_type": "execute_result"
    }
   ],
   "source": [
    "learner.predict(x_test[1])"
   ]
  },
  {
   "cell_type": "code",
   "execution_count": 84,
   "metadata": {
    "collapsed": false
   },
   "outputs": [
    {
     "data": {
      "text/plain": [
       "4"
      ]
     },
     "execution_count": 84,
     "metadata": {},
     "output_type": "execute_result"
    }
   ],
   "source": [
    "ya[1]"
   ]
  },
  {
   "cell_type": "code",
   "execution_count": 86,
   "metadata": {
    "collapsed": true
   },
   "outputs": [],
   "source": [
    "from scipy import misc"
   ]
  },
  {
   "cell_type": "code",
   "execution_count": 87,
   "metadata": {
    "collapsed": false
   },
   "outputs": [],
   "source": [
    "test_image=misc.imread(r\"5.jpg\")"
   ]
  },
  {
   "cell_type": "code",
   "execution_count": 88,
   "metadata": {
    "collapsed": false
   },
   "outputs": [
    {
     "data": {
      "text/plain": [
       "array([[[0, 0, 0],\n",
       "        [0, 0, 0],\n",
       "        [0, 0, 0],\n",
       "        ..., \n",
       "        [0, 0, 0],\n",
       "        [0, 0, 0],\n",
       "        [0, 0, 0]],\n",
       "\n",
       "       [[0, 0, 0],\n",
       "        [0, 0, 0],\n",
       "        [0, 0, 0],\n",
       "        ..., \n",
       "        [0, 0, 0],\n",
       "        [0, 0, 0],\n",
       "        [0, 0, 0]],\n",
       "\n",
       "       [[0, 0, 0],\n",
       "        [0, 0, 0],\n",
       "        [0, 0, 0],\n",
       "        ..., \n",
       "        [0, 0, 0],\n",
       "        [0, 0, 0],\n",
       "        [0, 0, 0]],\n",
       "\n",
       "       ..., \n",
       "       [[0, 0, 0],\n",
       "        [0, 0, 0],\n",
       "        [0, 0, 0],\n",
       "        ..., \n",
       "        [0, 0, 0],\n",
       "        [0, 0, 0],\n",
       "        [0, 0, 0]],\n",
       "\n",
       "       [[0, 0, 0],\n",
       "        [0, 0, 0],\n",
       "        [0, 0, 0],\n",
       "        ..., \n",
       "        [0, 0, 0],\n",
       "        [0, 0, 0],\n",
       "        [0, 0, 0]],\n",
       "\n",
       "       [[0, 0, 0],\n",
       "        [0, 0, 0],\n",
       "        [0, 0, 0],\n",
       "        ..., \n",
       "        [0, 0, 0],\n",
       "        [0, 0, 0],\n",
       "        [0, 0, 0]]], dtype=uint8)"
      ]
     },
     "execution_count": 88,
     "metadata": {},
     "output_type": "execute_result"
    }
   ],
   "source": [
    "test_image"
   ]
  },
  {
   "cell_type": "code",
   "execution_count": 89,
   "metadata": {
    "collapsed": false
   },
   "outputs": [
    {
     "data": {
      "text/plain": [
       "(256, 256, 3)"
      ]
     },
     "execution_count": 89,
     "metadata": {},
     "output_type": "execute_result"
    }
   ],
   "source": [
    "test_image.shape"
   ]
  },
  {
   "cell_type": "code",
   "execution_count": 90,
   "metadata": {
    "collapsed": true
   },
   "outputs": [],
   "source": [
    "test_image88=misc.imresize(test_image,(8,8))"
   ]
  },
  {
   "cell_type": "code",
   "execution_count": 91,
   "metadata": {
    "collapsed": false
   },
   "outputs": [
    {
     "data": {
      "text/plain": [
       "array([[[ 0,  0,  0],\n",
       "        [ 0,  0,  0],\n",
       "        [28, 28, 28],\n",
       "        [27, 27, 27],\n",
       "        [26, 26, 26],\n",
       "        [12, 12, 12],\n",
       "        [ 0,  0,  0],\n",
       "        [ 0,  0,  0]],\n",
       "\n",
       "       [[ 0,  0,  0],\n",
       "        [ 1,  1,  1],\n",
       "        [31, 31, 31],\n",
       "        [ 0,  0,  0],\n",
       "        [ 0,  0,  0],\n",
       "        [ 0,  0,  0],\n",
       "        [ 0,  0,  0],\n",
       "        [ 0,  0,  0]],\n",
       "\n",
       "       [[ 0,  0,  0],\n",
       "        [ 1,  1,  1],\n",
       "        [35, 35, 35],\n",
       "        [20, 20, 20],\n",
       "        [24, 24, 24],\n",
       "        [ 8,  8,  8],\n",
       "        [ 0,  0,  0],\n",
       "        [ 0,  0,  0]],\n",
       "\n",
       "       [[ 0,  0,  0],\n",
       "        [ 0,  0,  0],\n",
       "        [12, 12, 12],\n",
       "        [14, 14, 14],\n",
       "        [12, 12, 12],\n",
       "        [30, 30, 30],\n",
       "        [ 4,  4,  4],\n",
       "        [ 0,  0,  0]],\n",
       "\n",
       "       [[ 0,  0,  0],\n",
       "        [ 0,  0,  0],\n",
       "        [ 0,  0,  0],\n",
       "        [ 0,  0,  0],\n",
       "        [ 0,  0,  0],\n",
       "        [23, 23, 23],\n",
       "        [10, 10, 10],\n",
       "        [ 0,  0,  0]],\n",
       "\n",
       "       [[ 0,  0,  0],\n",
       "        [ 0,  0,  0],\n",
       "        [ 0,  0,  0],\n",
       "        [ 0,  0,  0],\n",
       "        [ 3,  3,  3],\n",
       "        [29, 29, 29],\n",
       "        [ 6,  6,  6],\n",
       "        [ 0,  0,  0]],\n",
       "\n",
       "       [[ 0,  0,  0],\n",
       "        [16, 16, 16],\n",
       "        [ 7,  7,  7],\n",
       "        [ 4,  4,  4],\n",
       "        [27, 27, 27],\n",
       "        [15, 15, 15],\n",
       "        [ 0,  0,  0],\n",
       "        [ 0,  0,  0]],\n",
       "\n",
       "       [[ 0,  0,  0],\n",
       "        [11, 11, 11],\n",
       "        [38, 38, 38],\n",
       "        [35, 35, 35],\n",
       "        [17, 17, 17],\n",
       "        [ 1,  1,  1],\n",
       "        [ 0,  0,  0],\n",
       "        [ 0,  0,  0]]], dtype=uint8)"
      ]
     },
     "execution_count": 91,
     "metadata": {},
     "output_type": "execute_result"
    }
   ],
   "source": [
    "test_image88"
   ]
  },
  {
   "cell_type": "code",
   "execution_count": 92,
   "metadata": {
    "collapsed": false
   },
   "outputs": [
    {
     "data": {
      "text/plain": [
       "(8, 8, 3)"
      ]
     },
     "execution_count": 92,
     "metadata": {},
     "output_type": "execute_result"
    }
   ],
   "source": [
    "test_image88.shape"
   ]
  },
  {
   "cell_type": "code",
   "execution_count": 94,
   "metadata": {
    "collapsed": false
   },
   "outputs": [
    {
     "data": {
      "text/plain": [
       "dtype('float64')"
      ]
     },
     "execution_count": 94,
     "metadata": {},
     "output_type": "execute_result"
    }
   ],
   "source": [
    "digitdata.data.dtype"
   ]
  },
  {
   "cell_type": "code",
   "execution_count": 95,
   "metadata": {
    "collapsed": false
   },
   "outputs": [
    {
     "data": {
      "text/plain": [
       "dtype('uint8')"
      ]
     },
     "execution_count": 95,
     "metadata": {},
     "output_type": "execute_result"
    }
   ],
   "source": [
    "test_image88.dtype\n"
   ]
  },
  {
   "cell_type": "code",
   "execution_count": 97,
   "metadata": {
    "collapsed": false
   },
   "outputs": [],
   "source": [
    "test_image8864=test_image88.astype(digitdata.data.dtype)"
   ]
  },
  {
   "cell_type": "code",
   "execution_count": 99,
   "metadata": {
    "collapsed": false
   },
   "outputs": [
    {
     "data": {
      "text/plain": [
       "dtype('float64')"
      ]
     },
     "execution_count": 99,
     "metadata": {},
     "output_type": "execute_result"
    }
   ],
   "source": [
    "test_image8864.dtype"
   ]
  },
  {
   "cell_type": "code",
   "execution_count": 101,
   "metadata": {
    "collapsed": false
   },
   "outputs": [
    {
     "data": {
      "text/plain": [
       "array([[[  0.,   0.,   0.],\n",
       "        [  0.,   0.,   0.],\n",
       "        [ 28.,  28.,  28.],\n",
       "        [ 27.,  27.,  27.],\n",
       "        [ 26.,  26.,  26.],\n",
       "        [ 12.,  12.,  12.],\n",
       "        [  0.,   0.,   0.],\n",
       "        [  0.,   0.,   0.]],\n",
       "\n",
       "       [[  0.,   0.,   0.],\n",
       "        [  1.,   1.,   1.],\n",
       "        [ 31.,  31.,  31.],\n",
       "        [  0.,   0.,   0.],\n",
       "        [  0.,   0.,   0.],\n",
       "        [  0.,   0.,   0.],\n",
       "        [  0.,   0.,   0.],\n",
       "        [  0.,   0.,   0.]],\n",
       "\n",
       "       [[  0.,   0.,   0.],\n",
       "        [  1.,   1.,   1.],\n",
       "        [ 35.,  35.,  35.],\n",
       "        [ 20.,  20.,  20.],\n",
       "        [ 24.,  24.,  24.],\n",
       "        [  8.,   8.,   8.],\n",
       "        [  0.,   0.,   0.],\n",
       "        [  0.,   0.,   0.]],\n",
       "\n",
       "       [[  0.,   0.,   0.],\n",
       "        [  0.,   0.,   0.],\n",
       "        [ 12.,  12.,  12.],\n",
       "        [ 14.,  14.,  14.],\n",
       "        [ 12.,  12.,  12.],\n",
       "        [ 30.,  30.,  30.],\n",
       "        [  4.,   4.,   4.],\n",
       "        [  0.,   0.,   0.]],\n",
       "\n",
       "       [[  0.,   0.,   0.],\n",
       "        [  0.,   0.,   0.],\n",
       "        [  0.,   0.,   0.],\n",
       "        [  0.,   0.,   0.],\n",
       "        [  0.,   0.,   0.],\n",
       "        [ 23.,  23.,  23.],\n",
       "        [ 10.,  10.,  10.],\n",
       "        [  0.,   0.,   0.]],\n",
       "\n",
       "       [[  0.,   0.,   0.],\n",
       "        [  0.,   0.,   0.],\n",
       "        [  0.,   0.,   0.],\n",
       "        [  0.,   0.,   0.],\n",
       "        [  3.,   3.,   3.],\n",
       "        [ 29.,  29.,  29.],\n",
       "        [  6.,   6.,   6.],\n",
       "        [  0.,   0.,   0.]],\n",
       "\n",
       "       [[  0.,   0.,   0.],\n",
       "        [ 16.,  16.,  16.],\n",
       "        [  7.,   7.,   7.],\n",
       "        [  4.,   4.,   4.],\n",
       "        [ 27.,  27.,  27.],\n",
       "        [ 15.,  15.,  15.],\n",
       "        [  0.,   0.,   0.],\n",
       "        [  0.,   0.,   0.]],\n",
       "\n",
       "       [[  0.,   0.,   0.],\n",
       "        [ 11.,  11.,  11.],\n",
       "        [ 38.,  38.,  38.],\n",
       "        [ 35.,  35.,  35.],\n",
       "        [ 17.,  17.,  17.],\n",
       "        [  1.,   1.,   1.],\n",
       "        [  0.,   0.,   0.],\n",
       "        [  0.,   0.,   0.]]])"
      ]
     },
     "execution_count": 101,
     "metadata": {},
     "output_type": "execute_result"
    }
   ],
   "source": [
    "test_image8864"
   ]
  },
  {
   "cell_type": "code",
   "execution_count": 102,
   "metadata": {
    "collapsed": true
   },
   "outputs": [],
   "source": [
    "#scaling dwnscling\n",
    "test_image886416=misc.bytescale(test_image8864,high=16,low=0)"
   ]
  },
  {
   "cell_type": "code",
   "execution_count": 103,
   "metadata": {
    "collapsed": false
   },
   "outputs": [
    {
     "data": {
      "text/plain": [
       "array([[[ 0,  0,  0],\n",
       "        [ 0,  0,  0],\n",
       "        [12, 12, 12],\n",
       "        [11, 11, 11],\n",
       "        [11, 11, 11],\n",
       "        [ 5,  5,  5],\n",
       "        [ 0,  0,  0],\n",
       "        [ 0,  0,  0]],\n",
       "\n",
       "       [[ 0,  0,  0],\n",
       "        [ 0,  0,  0],\n",
       "        [13, 13, 13],\n",
       "        [ 0,  0,  0],\n",
       "        [ 0,  0,  0],\n",
       "        [ 0,  0,  0],\n",
       "        [ 0,  0,  0],\n",
       "        [ 0,  0,  0]],\n",
       "\n",
       "       [[ 0,  0,  0],\n",
       "        [ 0,  0,  0],\n",
       "        [15, 15, 15],\n",
       "        [ 8,  8,  8],\n",
       "        [10, 10, 10],\n",
       "        [ 3,  3,  3],\n",
       "        [ 0,  0,  0],\n",
       "        [ 0,  0,  0]],\n",
       "\n",
       "       [[ 0,  0,  0],\n",
       "        [ 0,  0,  0],\n",
       "        [ 5,  5,  5],\n",
       "        [ 6,  6,  6],\n",
       "        [ 5,  5,  5],\n",
       "        [13, 13, 13],\n",
       "        [ 2,  2,  2],\n",
       "        [ 0,  0,  0]],\n",
       "\n",
       "       [[ 0,  0,  0],\n",
       "        [ 0,  0,  0],\n",
       "        [ 0,  0,  0],\n",
       "        [ 0,  0,  0],\n",
       "        [ 0,  0,  0],\n",
       "        [10, 10, 10],\n",
       "        [ 4,  4,  4],\n",
       "        [ 0,  0,  0]],\n",
       "\n",
       "       [[ 0,  0,  0],\n",
       "        [ 0,  0,  0],\n",
       "        [ 0,  0,  0],\n",
       "        [ 0,  0,  0],\n",
       "        [ 1,  1,  1],\n",
       "        [12, 12, 12],\n",
       "        [ 3,  3,  3],\n",
       "        [ 0,  0,  0]],\n",
       "\n",
       "       [[ 0,  0,  0],\n",
       "        [ 7,  7,  7],\n",
       "        [ 3,  3,  3],\n",
       "        [ 2,  2,  2],\n",
       "        [11, 11, 11],\n",
       "        [ 6,  6,  6],\n",
       "        [ 0,  0,  0],\n",
       "        [ 0,  0,  0]],\n",
       "\n",
       "       [[ 0,  0,  0],\n",
       "        [ 5,  5,  5],\n",
       "        [16, 16, 16],\n",
       "        [15, 15, 15],\n",
       "        [ 7,  7,  7],\n",
       "        [ 0,  0,  0],\n",
       "        [ 0,  0,  0],\n",
       "        [ 0,  0,  0]]], dtype=uint8)"
      ]
     },
     "execution_count": 103,
     "metadata": {},
     "output_type": "execute_result"
    }
   ],
   "source": [
    "test_image886416"
   ]
  },
  {
   "cell_type": "code",
   "execution_count": 104,
   "metadata": {
    "collapsed": false
   },
   "outputs": [
    {
     "data": {
      "text/plain": [
       "dtype('uint8')"
      ]
     },
     "execution_count": 104,
     "metadata": {},
     "output_type": "execute_result"
    }
   ],
   "source": [
    "test_image886416.dtype"
   ]
  },
  {
   "cell_type": "code",
   "execution_count": 107,
   "metadata": {
    "collapsed": false
   },
   "outputs": [],
   "source": [
    "test_image88641664=test_image886416.astype(digitdata.data.dtype)"
   ]
  },
  {
   "cell_type": "code",
   "execution_count": 108,
   "metadata": {
    "collapsed": false
   },
   "outputs": [
    {
     "data": {
      "text/plain": [
       "array([[[  0.,   0.,   0.],\n",
       "        [  0.,   0.,   0.],\n",
       "        [ 12.,  12.,  12.],\n",
       "        [ 11.,  11.,  11.],\n",
       "        [ 11.,  11.,  11.],\n",
       "        [  5.,   5.,   5.],\n",
       "        [  0.,   0.,   0.],\n",
       "        [  0.,   0.,   0.]],\n",
       "\n",
       "       [[  0.,   0.,   0.],\n",
       "        [  0.,   0.,   0.],\n",
       "        [ 13.,  13.,  13.],\n",
       "        [  0.,   0.,   0.],\n",
       "        [  0.,   0.,   0.],\n",
       "        [  0.,   0.,   0.],\n",
       "        [  0.,   0.,   0.],\n",
       "        [  0.,   0.,   0.]],\n",
       "\n",
       "       [[  0.,   0.,   0.],\n",
       "        [  0.,   0.,   0.],\n",
       "        [ 15.,  15.,  15.],\n",
       "        [  8.,   8.,   8.],\n",
       "        [ 10.,  10.,  10.],\n",
       "        [  3.,   3.,   3.],\n",
       "        [  0.,   0.,   0.],\n",
       "        [  0.,   0.,   0.]],\n",
       "\n",
       "       [[  0.,   0.,   0.],\n",
       "        [  0.,   0.,   0.],\n",
       "        [  5.,   5.,   5.],\n",
       "        [  6.,   6.,   6.],\n",
       "        [  5.,   5.,   5.],\n",
       "        [ 13.,  13.,  13.],\n",
       "        [  2.,   2.,   2.],\n",
       "        [  0.,   0.,   0.]],\n",
       "\n",
       "       [[  0.,   0.,   0.],\n",
       "        [  0.,   0.,   0.],\n",
       "        [  0.,   0.,   0.],\n",
       "        [  0.,   0.,   0.],\n",
       "        [  0.,   0.,   0.],\n",
       "        [ 10.,  10.,  10.],\n",
       "        [  4.,   4.,   4.],\n",
       "        [  0.,   0.,   0.]],\n",
       "\n",
       "       [[  0.,   0.,   0.],\n",
       "        [  0.,   0.,   0.],\n",
       "        [  0.,   0.,   0.],\n",
       "        [  0.,   0.,   0.],\n",
       "        [  1.,   1.,   1.],\n",
       "        [ 12.,  12.,  12.],\n",
       "        [  3.,   3.,   3.],\n",
       "        [  0.,   0.,   0.]],\n",
       "\n",
       "       [[  0.,   0.,   0.],\n",
       "        [  7.,   7.,   7.],\n",
       "        [  3.,   3.,   3.],\n",
       "        [  2.,   2.,   2.],\n",
       "        [ 11.,  11.,  11.],\n",
       "        [  6.,   6.,   6.],\n",
       "        [  0.,   0.,   0.],\n",
       "        [  0.,   0.,   0.]],\n",
       "\n",
       "       [[  0.,   0.,   0.],\n",
       "        [  5.,   5.,   5.],\n",
       "        [ 16.,  16.,  16.],\n",
       "        [ 15.,  15.,  15.],\n",
       "        [  7.,   7.,   7.],\n",
       "        [  0.,   0.,   0.],\n",
       "        [  0.,   0.,   0.],\n",
       "        [  0.,   0.,   0.]]])"
      ]
     },
     "execution_count": 108,
     "metadata": {},
     "output_type": "execute_result"
    }
   ],
   "source": [
    "test_image88641664"
   ]
  },
  {
   "cell_type": "code",
   "execution_count": 109,
   "metadata": {
    "collapsed": false
   },
   "outputs": [
    {
     "data": {
      "text/plain": [
       "dtype('float64')"
      ]
     },
     "execution_count": 109,
     "metadata": {},
     "output_type": "execute_result"
    }
   ],
   "source": [
    "test_image88641664.dtype"
   ]
  },
  {
   "cell_type": "code",
   "execution_count": 111,
   "metadata": {
    "collapsed": false
   },
   "outputs": [
    {
     "data": {
      "text/plain": [
       "(8, 8, 3)"
      ]
     },
     "execution_count": 111,
     "metadata": {},
     "output_type": "execute_result"
    }
   ],
   "source": [
    "test_image88641664.shape"
   ]
  },
  {
   "cell_type": "code",
   "execution_count": 113,
   "metadata": {
    "collapsed": false
   },
   "outputs": [],
   "source": [
    "x_test_image=[]"
   ]
  },
  {
   "cell_type": "code",
   "execution_count": 114,
   "metadata": {
    "collapsed": true
   },
   "outputs": [],
   "source": [
    "for i in test_image88641664:\n",
    "    for j in i:\n",
    "        x_test_image.append(sum(i/3.0))"
   ]
  },
  {
   "cell_type": "code",
   "execution_count": 118,
   "metadata": {
    "collapsed": false
   },
   "outputs": [
    {
     "data": {
      "text/plain": [
       "64"
      ]
     },
     "execution_count": 118,
     "metadata": {},
     "output_type": "execute_result"
    }
   ],
   "source": [
    "len(x_test_image)"
   ]
  },
  {
   "cell_type": "code",
   "execution_count": 122,
   "metadata": {
    "collapsed": false
   },
   "outputs": [],
   "source": [
    "import numpy as np\n",
    "x_test_array=np.array(x_test_image)"
   ]
  },
  {
   "cell_type": "code",
   "execution_count": 123,
   "metadata": {
    "collapsed": false
   },
   "outputs": [
    {
     "data": {
      "text/plain": [
       "[array([ 13.,  13.,  13.]),\n",
       " array([ 13.,  13.,  13.]),\n",
       " array([ 13.,  13.,  13.]),\n",
       " array([ 13.,  13.,  13.]),\n",
       " array([ 13.,  13.,  13.]),\n",
       " array([ 13.,  13.,  13.]),\n",
       " array([ 13.,  13.,  13.]),\n",
       " array([ 13.,  13.,  13.]),\n",
       " array([ 4.33333333,  4.33333333,  4.33333333]),\n",
       " array([ 4.33333333,  4.33333333,  4.33333333]),\n",
       " array([ 4.33333333,  4.33333333,  4.33333333]),\n",
       " array([ 4.33333333,  4.33333333,  4.33333333]),\n",
       " array([ 4.33333333,  4.33333333,  4.33333333]),\n",
       " array([ 4.33333333,  4.33333333,  4.33333333]),\n",
       " array([ 4.33333333,  4.33333333,  4.33333333]),\n",
       " array([ 4.33333333,  4.33333333,  4.33333333]),\n",
       " array([ 12.,  12.,  12.]),\n",
       " array([ 12.,  12.,  12.]),\n",
       " array([ 12.,  12.,  12.]),\n",
       " array([ 12.,  12.,  12.]),\n",
       " array([ 12.,  12.,  12.]),\n",
       " array([ 12.,  12.,  12.]),\n",
       " array([ 12.,  12.,  12.]),\n",
       " array([ 12.,  12.,  12.]),\n",
       " array([ 10.33333333,  10.33333333,  10.33333333]),\n",
       " array([ 10.33333333,  10.33333333,  10.33333333]),\n",
       " array([ 10.33333333,  10.33333333,  10.33333333]),\n",
       " array([ 10.33333333,  10.33333333,  10.33333333]),\n",
       " array([ 10.33333333,  10.33333333,  10.33333333]),\n",
       " array([ 10.33333333,  10.33333333,  10.33333333]),\n",
       " array([ 10.33333333,  10.33333333,  10.33333333]),\n",
       " array([ 10.33333333,  10.33333333,  10.33333333]),\n",
       " array([ 4.66666667,  4.66666667,  4.66666667]),\n",
       " array([ 4.66666667,  4.66666667,  4.66666667]),\n",
       " array([ 4.66666667,  4.66666667,  4.66666667]),\n",
       " array([ 4.66666667,  4.66666667,  4.66666667]),\n",
       " array([ 4.66666667,  4.66666667,  4.66666667]),\n",
       " array([ 4.66666667,  4.66666667,  4.66666667]),\n",
       " array([ 4.66666667,  4.66666667,  4.66666667]),\n",
       " array([ 4.66666667,  4.66666667,  4.66666667]),\n",
       " array([ 5.33333333,  5.33333333,  5.33333333]),\n",
       " array([ 5.33333333,  5.33333333,  5.33333333]),\n",
       " array([ 5.33333333,  5.33333333,  5.33333333]),\n",
       " array([ 5.33333333,  5.33333333,  5.33333333]),\n",
       " array([ 5.33333333,  5.33333333,  5.33333333]),\n",
       " array([ 5.33333333,  5.33333333,  5.33333333]),\n",
       " array([ 5.33333333,  5.33333333,  5.33333333]),\n",
       " array([ 5.33333333,  5.33333333,  5.33333333]),\n",
       " array([ 9.66666667,  9.66666667,  9.66666667]),\n",
       " array([ 9.66666667,  9.66666667,  9.66666667]),\n",
       " array([ 9.66666667,  9.66666667,  9.66666667]),\n",
       " array([ 9.66666667,  9.66666667,  9.66666667]),\n",
       " array([ 9.66666667,  9.66666667,  9.66666667]),\n",
       " array([ 9.66666667,  9.66666667,  9.66666667]),\n",
       " array([ 9.66666667,  9.66666667,  9.66666667]),\n",
       " array([ 9.66666667,  9.66666667,  9.66666667]),\n",
       " array([ 14.33333333,  14.33333333,  14.33333333]),\n",
       " array([ 14.33333333,  14.33333333,  14.33333333]),\n",
       " array([ 14.33333333,  14.33333333,  14.33333333]),\n",
       " array([ 14.33333333,  14.33333333,  14.33333333]),\n",
       " array([ 14.33333333,  14.33333333,  14.33333333]),\n",
       " array([ 14.33333333,  14.33333333,  14.33333333]),\n",
       " array([ 14.33333333,  14.33333333,  14.33333333]),\n",
       " array([ 14.33333333,  14.33333333,  14.33333333])]"
      ]
     },
     "execution_count": 123,
     "metadata": {},
     "output_type": "execute_result"
    }
   ],
   "source": [
    "x_test_image"
   ]
  },
  {
   "cell_type": "code",
   "execution_count": null,
   "metadata": {
    "collapsed": true
   },
   "outputs": [],
   "source": []
  }
 ],
 "metadata": {
  "kernelspec": {
   "display_name": "Python 3",
   "language": "python",
   "name": "python3"
  },
  "language_info": {
   "codemirror_mode": {
    "name": "ipython",
    "version": 3
   },
   "file_extension": ".py",
   "mimetype": "text/x-python",
   "name": "python",
   "nbconvert_exporter": "python",
   "pygments_lexer": "ipython3",
   "version": "3.6.0"
  }
 },
 "nbformat": 4,
 "nbformat_minor": 2
}
